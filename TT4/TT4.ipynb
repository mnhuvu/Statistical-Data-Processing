{
 "cells": [
  {
   "cell_type": "markdown",
   "metadata": {},
   "source": [
    "# Bài tập Backward Elimination"
   ]
  },
  {
   "cell_type": "markdown",
   "metadata": {},
   "source": [
    "#### Vũ Minh Như - 21110360 - Nhóm TTHK"
   ]
  },
  {
   "cell_type": "markdown",
   "metadata": {},
   "source": [
    "- Input:\n",
    "\n",
    "  - Dữ liệu chứa thông tin về trọng lượng sinh sản và các đặc trưng khác. (birthwt)\n",
    "  - Mức ý nghĩa: 0.05\n",
    "\n",
    "- Output:\n",
    "\n",
    "  - In ra màn hình các đặc trưng bị loại bỏ với giá trị P-value cao hơn 0.05 trong quá trình lựa chọn ngược.\n",
    "  - In ra màn hình các đặc trưng cuối cùng được chọn sau quá trình lựa chọn ngược.\n",
    "\n"
   ]
  },
  {
   "cell_type": "code",
   "execution_count": 5,
   "metadata": {},
   "outputs": [
    {
     "name": "stdout",
     "output_type": "stream",
     "text": [
      "Xóa đặc trưng age với P-value = 6.53E-01\n",
      "Xóa đặc trưng ftv1 với P-value = 3.62E-01\n",
      "Xóa đặc trưng ptl1 với P-value = 7.46E-02\n",
      "Các đặc trưng cuối cùng được chọn là: {'lwt', 'smoke', 'C(ui)', 'C(ht)'}\n"
     ]
    }
   ],
   "source": [
    "# Import các thư viện cần thiết\n",
    "import numpy as np\n",
    "import pandas as pd\n",
    "import statsmodels.api as sm\n",
    "from statsmodels.formula.api import ols\n",
    "\n",
    "# Lấy dữ liệu từ bộ dữ liệu \"birthwt\" trong gói \"MASS\"\n",
    "bwt = sm.datasets.get_rdataset('birthwt', 'MASS').data\n",
    "\n",
    "# Tạo binary variable: ftv1 và ptl1, chỉ đặc trưng 'ftv' và 'ptl' có giá trị lớn hơn hoặc bằng 1 hay không\n",
    "ftv1 = (bwt['ftv'] >= 1).astype(int)\n",
    "ptl1 = (bwt['ptl'] >= 1).astype(int)\n",
    "\n",
    "# Danh sách các đặc trưng ban đầu là một danh sách thay vì một set\n",
    "remaining_features = {'lwt', 'age', 'C(ui)', 'smoke', 'C(ht)', 'ftv1', 'ptl1'}\n",
    "\n",
    "# Thực hiện quá trình loại bỏ đặc trưng không quan trọng\n",
    "while True:\n",
    "    formula = 'bwt ~ ' + ' + '.join(remaining_features)\n",
    "    # Fit mô hình tuyến tính\n",
    "    fit = ols(formula, data=bwt).fit()\n",
    "    # Lấy giá trị P-values cho từng đặc trưng\n",
    "    p_values = fit.pvalues.iloc[1:] \n",
    "    # Sắp xếp giảm dần theo giá trị P-value\n",
    "    sorted_p_values = p_values.sort_values(ascending=False)\n",
    "    # Lấy biến có P-value cao nhất\n",
    "    max_p_value_feature = sorted_p_values.index[0]\n",
    "    max_p_value = sorted_p_values.iloc[0]\n",
    "    # Kiểm tra xem biến có P-value cao nhất có lớn hơn 0.05 không\n",
    "    if max_p_value > 0.05:\n",
    "        remaining_features.remove(max_p_value_feature)\n",
    "        print('Xóa đặc trưng {} với P-value = {:.2E}'.format(max_p_value_feature, max_p_value))\n",
    "    else:\n",
    "        break\n",
    "# In ra các đặc trưng cuối cùng được chọn\n",
    "print('Các đặc trưng cuối cùng được chọn là:', remaining_features)"
   ]
  },
  {
   "cell_type": "code",
   "execution_count": null,
   "metadata": {},
   "outputs": [],
   "source": []
  }
 ],
 "metadata": {
  "kernelspec": {
   "display_name": "Python 3 (ipykernel)",
   "language": "python",
   "name": "python3"
  },
  "language_info": {
   "codemirror_mode": {
    "name": "ipython",
    "version": 3
   },
   "file_extension": ".py",
   "mimetype": "text/x-python",
   "name": "python",
   "nbconvert_exporter": "python",
   "pygments_lexer": "ipython3",
   "version": "3.11.5"
  }
 },
 "nbformat": 4,
 "nbformat_minor": 2
}
